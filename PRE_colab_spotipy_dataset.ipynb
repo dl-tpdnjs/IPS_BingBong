{
  "cells": [
    {
      "cell_type": "code",
      "execution_count": 2,
      "metadata": {
        "colab": {
          "base_uri": "https://localhost:8080/"
        },
        "id": "NiBEDmYxYHzi",
        "outputId": "f770f327-3266-48e4-c926-6c99dafce290"
      },
      "outputs": [
        {
          "name": "stdout",
          "output_type": "stream",
          "text": [
            "Collecting spotipy\n",
            "  Downloading spotipy-2.23.0-py3-none-any.whl (29 kB)\n",
            "Collecting redis>=3.5.3 (from spotipy)\n",
            "  Downloading redis-5.0.4-py3-none-any.whl (251 kB)\n",
            "\u001b[2K     \u001b[90m━━━━━━━━━━━━━━━━━━━━━━━━━━━━━━━━━━━━━━━━\u001b[0m \u001b[32m252.0/252.0 kB\u001b[0m \u001b[31m3.7 MB/s\u001b[0m eta \u001b[36m0:00:00\u001b[0m\n",
            "\u001b[?25hRequirement already satisfied: requests>=2.25.0 in /usr/local/lib/python3.10/dist-packages (from spotipy) (2.31.0)\n",
            "Requirement already satisfied: six>=1.15.0 in /usr/local/lib/python3.10/dist-packages (from spotipy) (1.16.0)\n",
            "Requirement already satisfied: urllib3>=1.26.0 in /usr/local/lib/python3.10/dist-packages (from spotipy) (2.0.7)\n",
            "Requirement already satisfied: async-timeout>=4.0.3 in /usr/local/lib/python3.10/dist-packages (from redis>=3.5.3->spotipy) (4.0.3)\n",
            "Requirement already satisfied: charset-normalizer<4,>=2 in /usr/local/lib/python3.10/dist-packages (from requests>=2.25.0->spotipy) (3.3.2)\n",
            "Requirement already satisfied: idna<4,>=2.5 in /usr/local/lib/python3.10/dist-packages (from requests>=2.25.0->spotipy) (3.7)\n",
            "Requirement already satisfied: certifi>=2017.4.17 in /usr/local/lib/python3.10/dist-packages (from requests>=2.25.0->spotipy) (2024.2.2)\n",
            "Installing collected packages: redis, spotipy\n",
            "Successfully installed redis-5.0.4 spotipy-2.23.0\n"
          ]
        }
      ],
      "source": [
        "!pip install spotipy\n"
      ]
    },
    {
      "cell_type": "code",
      "execution_count": 2,
      "metadata": {
        "id": "n3DtXTLAX6DK"
      },
      "outputs": [],
      "source": [
        "import spotipy\n",
        "from spotipy.oauth2 import SpotifyClientCredentials\n",
        "from spotipy.oauth2 import SpotifyOAuth\n",
        "import pandas as pd\n",
        "\n",
        "\n",
        "client_id = '7ae275c4289c4961aa84d3944ea547ff'\n",
        "client_secret = '06cbce79bb0f474aae909c57e6001f45'\n",
        "\n",
        "client_credentials_manager = SpotifyClientCredentials(client_id= client_id, client_secret= client_secret)\n",
        "sp = spotipy.Spotify(client_credentials_manager=client_credentials_manager)"
      ]
    },
    {
      "cell_type": "code",
      "execution_count": null,
      "metadata": {
        "id": "uWwrBXGmX6DL"
      },
      "outputs": [],
      "source": [
        "# 스포티파이 글로벌 일간 차트인 (걸그룹)\n",
        "blackpink = 'https://open.spotify.com/artist/41MozSoPIsD1dJM0CLPjZF'\n",
        "twice = 'https://open.spotify.com/artist/7n2Ycct7Beij7Dj7meI4X0'\n",
        "redvelvet = 'https://open.spotify.com/artist/1z4g3DjTBBZKhvAroFlhOM'\n",
        "newjeans = 'https://open.spotify.com/artist/6HvZYsbFfjnjFrWF950C9d'\n",
        "ive = 'https://open.spotify.com/artist/6RHTUrRF63xao58xh9FXYJ'\n",
        "lesserafim = 'https://open.spotify.com/artist/4SpbR6yFEvexJuaBpgAU5p'\n",
        "itzy = 'https://open.spotify.com/artist/2KC9Qb60EaY0kW4eH68vr3'\n",
        "aespa ='https://open.spotify.com/artist/6YVMFz59CuY7ngCxTxjpxE'\n",
        "gidle = 'https://open.spotify.com/artist/2AfmfGFbe0A0WsTYm0SDTx'\n",
        "kep1er = 'https://open.spotify.com/artist/5R7AMwDeroq6Ls0COQYpS4'\n",
        "nmixx = 'https://open.spotify.com/artist/28ot3wh4oNmoFOdVajibBl'\n",
        "\n",
        "# 스포티파이 글로벌 일간 차트인 (보이그룹)\n",
        "bts = 'https://open.spotify.com/artist/3Nrfpe0tUJi4K4DXYWgMUX'\n",
        "straykids = 'https://open.spotify.com/artist/2dIgFjalVxs4ThymZ67YCE'\n",
        "seventeen = 'https://open.spotify.com/artist/7nqOGRxlXj7N2JYbgNEjYH'\n",
        "txt = 'https://open.spotify.com/artist/0ghlgldX5Dd6720Q3qFyQB'\n",
        "enhypen = 'https://open.spotify.com/artist/5t5FqBwTcgKTaWmfEbwQY9'\n",
        "nctdream = 'https://open.spotify.com/artist/1gBUSTR3TyDdTVFIaQnc02'\n",
        "exo = 'https://open.spotify.com/artist/3cjEqqelV9zb4BYE3qDQ4O'\n",
        "treasure = 'https://open.spotify.com/artist/3KonOYiLsU53m4yT7gNotP'\n",
        "bigbang = 'https://open.spotify.com/artist/4Kxlr1PRlDKEB0ekOCyHgX'\n",
        "\n",
        "artist_list = [blackpink, twice, redvelvet, newjeans, ive, lesserafim, aespa, gidle, nmixx,\n",
        "               bts, straykids, seventeen, enhypen, nctdream, exo, bigbang]"
      ]
    },
    {
      "cell_type": "code",
      "execution_count": null,
      "metadata": {
        "colab": {
          "base_uri": "https://localhost:8080/",
          "height": 374
        },
        "id": "g8eP5vNzZMl-",
        "outputId": "57744682-5a81-450f-f834-6fed74ae985c"
      },
      "outputs": [],
      "source": [
        "import pandas as pd\n",
        "\n",
        "artist_list = [\"blackpink\"]  # 샘플: 아티스트 목록 제한\n",
        "\n",
        "artist_info_df = pd.DataFrame(columns=[\n",
        "    \"artist_name\", \"artist_id\", \"artist_uri\", \"artist_popularity\"\n",
        "])\n",
        "\n",
        "for artist in artist_list:\n",
        "    artistprofile = sp.artist(artist_id=artist)\n",
        "    artist_popularity = artistprofile['popularity']\n",
        "\n",
        "    artist_info_df = artist_info_df.append({\n",
        "        \"artist_name\": artistprofile['name'],\n",
        "        \"artist_id\": artistprofile['id'],\n",
        "        \"artist_uri\": artistprofile['uri'],\n",
        "        \"artist_popularity\": artist_popularity\n",
        "    }, ignore_index=True)\n",
        "\n",
        "# 엑셀 파일 저장 (artist_info.xlsx)\n",
        "artist_info_df.to_excel(\"artist_info.xlsx\", index=False)\n",
        "print(\"엑셀 파일 생성 완료: artist_info.xlsx\")\n"
      ]
    },
    {
      "cell_type": "code",
      "execution_count": null,
      "metadata": {
        "colab": {
          "base_uri": "https://localhost:8080/"
        },
        "id": "8Bls1vydaHJD",
        "outputId": "bfaa387d-5288-4ed4-bff1-31b2072976f9"
      },
      "outputs": [
        {
          "name": "stdout",
          "output_type": "stream",
          "text": [
            "['41MozSoPIsD1dJM0CLPjZF', '7n2Ycct7Beij7Dj7meI4X0', '1z4g3DjTBBZKhvAroFlhOM', '6HvZYsbFfjnjFrWF950C9d', '6RHTUrRF63xao58xh9FXYJ', '4SpbR6yFEvexJuaBpgAU5p', '6YVMFz59CuY7ngCxTxjpxE', '2AfmfGFbe0A0WsTYm0SDTx', '28ot3wh4oNmoFOdVajibBl', '3Nrfpe0tUJi4K4DXYWgMUX', '2dIgFjalVxs4ThymZ67YCE', '7nqOGRxlXj7N2JYbgNEjYH', '5t5FqBwTcgKTaWmfEbwQY9', '1gBUSTR3TyDdTVFIaQnc02', '3cjEqqelV9zb4BYE3qDQ4O', '4Kxlr1PRlDKEB0ekOCyHgX']\n"
          ]
        }
      ],
      "source": [
        "def get_artist_id_from_link(artist_link):\n",
        "    return artist_link.split('/')[-1]\n",
        "\n",
        "artist_list = [\n",
        "    'https://open.spotify.com/artist/41MozSoPIsD1dJM0CLPjZF',  # blackpink\n",
        "    'https://open.spotify.com/artist/7n2Ycct7Beij7Dj7meI4X0',  # twice\n",
        "    'https://open.spotify.com/artist/1z4g3DjTBBZKhvAroFlhOM',  # redvelvet\n",
        "    'https://open.spotify.com/artist/6HvZYsbFfjnjFrWF950C9d',  # newjeans\n",
        "    'https://open.spotify.com/artist/6RHTUrRF63xao58xh9FXYJ',  # ive\n",
        "    'https://open.spotify.com/artist/4SpbR6yFEvexJuaBpgAU5p',  # lesserafim\n",
        "    'https://open.spotify.com/artist/6YVMFz59CuY7ngCxTxjpxE',  # aespa\n",
        "    'https://open.spotify.com/artist/2AfmfGFbe0A0WsTYm0SDTx',  # gidle\n",
        "    'https://open.spotify.com/artist/28ot3wh4oNmoFOdVajibBl',  # nmixx\n",
        "    'https://open.spotify.com/artist/3Nrfpe0tUJi4K4DXYWgMUX',  # bts\n",
        "    'https://open.spotify.com/artist/2dIgFjalVxs4ThymZ67YCE',  # straykids\n",
        "    'https://open.spotify.com/artist/7nqOGRxlXj7N2JYbgNEjYH',  # seventeen\n",
        "    'https://open.spotify.com/artist/5t5FqBwTcgKTaWmfEbwQY9',  # enhypen\n",
        "    'https://open.spotify.com/artist/1gBUSTR3TyDdTVFIaQnc02',  # nctdream\n",
        "    'https://open.spotify.com/artist/3cjEqqelV9zb4BYE3qDQ4O',  # exo\n",
        "    'https://open.spotify.com/artist/4Kxlr1PRlDKEB0ekOCyHgX'   # bigbang\n",
        "]\n",
        "\n",
        "artist_ids = [get_artist_id_from_link(artist_link) for artist_link in artist_list]\n",
        "\n",
        "print(artist_ids)\n"
      ]
    },
    {
      "cell_type": "code",
      "execution_count": null,
      "metadata": {
        "colab": {
          "base_uri": "https://localhost:8080/"
        },
        "id": "P-RD4mMOacZt",
        "outputId": "f4db1cd2-2607-48b5-91b9-33ab5678e03e"
      },
      "outputs": [
        {
          "name": "stdout",
          "output_type": "stream",
          "text": [
            "['spotify:artist:41MozSoPIsD1dJM0CLPjZF', 'spotify:artist:7n2Ycct7Beij7Dj7meI4X0', 'spotify:artist:1z4g3DjTBBZKhvAroFlhOM', 'spotify:artist:6HvZYsbFfjnjFrWF950C9d', 'spotify:artist:6RHTUrRF63xao58xh9FXYJ', 'spotify:artist:4SpbR6yFEvexJuaBpgAU5p', 'spotify:artist:6YVMFz59CuY7ngCxTxjpxE', 'spotify:artist:2AfmfGFbe0A0WsTYm0SDTx', 'spotify:artist:28ot3wh4oNmoFOdVajibBl', 'spotify:artist:3Nrfpe0tUJi4K4DXYWgMUX', 'spotify:artist:2dIgFjalVxs4ThymZ67YCE', 'spotify:artist:7nqOGRxlXj7N2JYbgNEjYH', 'spotify:artist:5t5FqBwTcgKTaWmfEbwQY9', 'spotify:artist:1gBUSTR3TyDdTVFIaQnc02', 'spotify:artist:3cjEqqelV9zb4BYE3qDQ4O', 'spotify:artist:4Kxlr1PRlDKEB0ekOCyHgX']\n"
          ]
        }
      ],
      "source": [
        "def get_artist_uri(artist_id):\n",
        "    return f'spotify:artist:{artist_id}'\n",
        "\n",
        "# 주어진 아티스트 ID 리스트\n",
        "artist_ids = [\n",
        "    '41MozSoPIsD1dJM0CLPjZF', '7n2Ycct7Beij7Dj7meI4X0', '1z4g3DjTBBZKhvAroFlhOM',\n",
        "    '6HvZYsbFfjnjFrWF950C9d', '6RHTUrRF63xao58xh9FXYJ', '4SpbR6yFEvexJuaBpgAU5p',\n",
        "    '6YVMFz59CuY7ngCxTxjpxE', '2AfmfGFbe0A0WsTYm0SDTx', '28ot3wh4oNmoFOdVajibBl',\n",
        "    '3Nrfpe0tUJi4K4DXYWgMUX', '2dIgFjalVxs4ThymZ67YCE', '7nqOGRxlXj7N2JYbgNEjYH',\n",
        "    '5t5FqBwTcgKTaWmfEbwQY9', '1gBUSTR3TyDdTVFIaQnc02', '3cjEqqelV9zb4BYE3qDQ4O',\n",
        "    '4Kxlr1PRlDKEB0ekOCyHgX'\n",
        "]\n",
        "\n",
        "# 각 아티스트 ID를 URI로 변환하여 새로운 리스트에 담기\n",
        "artist_uris = [get_artist_uri(artist_id) for artist_id in artist_ids]\n",
        "\n",
        "print(artist_uris)\n"
      ]
    },
    {
      "cell_type": "code",
      "execution_count": null,
      "metadata": {
        "id": "6QSZS_ZCX6DM"
      },
      "outputs": [],
      "source": [
        "from spotipy.oauth2 import SpotifyClientCredentials\n",
        "import spotipy\n",
        "import pprint\n",
        "\n",
        "\n",
        "client_id = \"7ae275c4289c4961aa84d3944ea547ff\"\n",
        "client_secret = \"06cbce79bb0f474aae909c57e6001f45\"\n",
        "\n",
        "lz_uri = 'spotify:artist:6VuMaDnrHyPL1p4EHjYLi7' # Charlie Puth\n",
        "\n",
        "client_credentials_manager = SpotifyClientCredentials(client_id=client_id, client_secret=client_secret)\n",
        "sp = spotipy.Spotify(client_credentials_manager=client_credentials_manager)\n",
        "\n",
        "results = sp.artist_top_tracks(lz_uri)\n",
        "\n",
        "# get top 10 tracks\n",
        "for track in results['tracks'][:10]:\n",
        "    print('track    : ' + track['name'])\n",
        "    print('audio    : ' + track['preview_url'])\n",
        "    print('cover art: ' + track['album']['images'][0]['url'])\n",
        "    print()"
      ]
    },
    {
      "cell_type": "code",
      "execution_count": 4,
      "metadata": {
        "colab": {
          "base_uri": "https://localhost:8080/",
          "height": 374
        },
        "id": "3UKVEJZdgrNw",
        "outputId": "3762c89a-7c5e-4127-bea3-ef4d847249c9"
      },
      "outputs": [],
      "source": [
        "import pandas as pd\n",
        "from spotipy.oauth2 import SpotifyClientCredentials\n",
        "import spotipy\n",
        "import time\n",
        "\n",
        "client_id = '7ae275c4289c4961aa84d3944ea547ff'\n",
        "client_secret = '06cbce79bb0f474aae909c57e6001f45'\n",
        "\n",
        "client_credentials_manager = SpotifyClientCredentials(client_id=client_id, client_secret=client_secret)\n",
        "sp = spotipy.Spotify(client_credentials_manager=client_credentials_manager)\n",
        "\n",
        "# 아티스트 URI\n",
        "lz_uri = 'spotify:artist:6VuMaDnrHyPL1p4EHjYLi7'  # Charlie Puth\n",
        "\n",
        "# 아티스트의 상위 10개 곡 정보 가져오기\n",
        "results = sp.artist_top_tracks(lz_uri)\n",
        "\n",
        "# 각 정보를 담을 리스트 초기화\n",
        "track_names = []\n",
        "artist_names = []\n",
        "artist_ids = []\n",
        "cover_arts = []\n",
        "preview_urls = []\n",
        "\n",
        "# 상위 10개 곡 정보를 리스트에 추가\n",
        "for track in results['tracks'][:10]:\n",
        "    track_names.append(track['name'])\n",
        "    artist_names.append(track['artists'][0]['name'])\n",
        "    artist_ids.append(track['artists'][0]['id'])\n",
        "    cover_arts.append(track['album']['images'][0]['url'])\n",
        "    preview_urls.append(track['preview_url'])\n",
        "\n",
        "    # 각 API 요청 사이에 1초의 딜레이를 추가\n",
        "    time.sleep(2)\n",
        "\n",
        "# 각 정보가 담긴 리스트 출력\n",
        "print(\"Track Names:\", track_names)\n",
        "print(\"Artist Names:\", artist_names)\n",
        "print(\"Artist IDs:\", artist_ids)\n",
        "print(\"Cover Arts:\", cover_arts)\n",
        "print(\"Preview URLs:\", preview_urls)\n"
      ]
    },
    {
      "cell_type": "code",
      "execution_count": 3,
      "metadata": {
        "id": "VwC5ZNlTparP"
      },
      "outputs": [
        {
          "ename": "NameError",
          "evalue": "name 'track_names' is not defined",
          "output_type": "error",
          "traceback": [
            "\u001b[1;31m---------------------------------------------------------------------------\u001b[0m",
            "\u001b[1;31mNameError\u001b[0m                                 Traceback (most recent call last)",
            "Cell \u001b[1;32mIn[3], line 20\u001b[0m\n\u001b[0;32m     18\u001b[0m \u001b[38;5;66;03m# 상위 10개 곡 정보를 리스트에 추가\u001b[39;00m\n\u001b[0;32m     19\u001b[0m \u001b[38;5;28;01mfor\u001b[39;00m track \u001b[38;5;129;01min\u001b[39;00m results[\u001b[38;5;124m'\u001b[39m\u001b[38;5;124mtracks\u001b[39m\u001b[38;5;124m'\u001b[39m][:\u001b[38;5;241m10\u001b[39m]:\n\u001b[1;32m---> 20\u001b[0m     \u001b[43mtrack_names\u001b[49m\u001b[38;5;241m.\u001b[39mappend(track[\u001b[38;5;124m'\u001b[39m\u001b[38;5;124mname\u001b[39m\u001b[38;5;124m'\u001b[39m])\n\u001b[0;32m     21\u001b[0m     artist_names\u001b[38;5;241m.\u001b[39mappend(track[\u001b[38;5;124m'\u001b[39m\u001b[38;5;124martists\u001b[39m\u001b[38;5;124m'\u001b[39m][\u001b[38;5;241m0\u001b[39m][\u001b[38;5;124m'\u001b[39m\u001b[38;5;124mname\u001b[39m\u001b[38;5;124m'\u001b[39m])\n\u001b[0;32m     22\u001b[0m     artist_ids\u001b[38;5;241m.\u001b[39mappend(track[\u001b[38;5;124m'\u001b[39m\u001b[38;5;124martists\u001b[39m\u001b[38;5;124m'\u001b[39m][\u001b[38;5;241m0\u001b[39m][\u001b[38;5;124m'\u001b[39m\u001b[38;5;124mid\u001b[39m\u001b[38;5;124m'\u001b[39m])\n",
            "\u001b[1;31mNameError\u001b[0m: name 'track_names' is not defined"
          ]
        }
      ],
      "source": [
        "import pandas as pd\n",
        "from spotipy.oauth2 import SpotifyClientCredentials\n",
        "import spotipy\n",
        "import time\n",
        "\n",
        "client_id = '7ae275c4289c4961aa84d3944ea547ff'\n",
        "client_secret = '06cbce79bb0f474aae909c57e6001f45'\n",
        "\n",
        "client_credentials_manager = SpotifyClientCredentials(client_id=client_id, client_secret=client_secret)\n",
        "sp = spotipy.Spotify(client_credentials_manager=client_credentials_manager)\n",
        "\n",
        "# 아티스트 URI\n",
        "lz_uri = 'spotify:artist:6VuMaDnrHyPL1p4EHjYLi7'  # Charlie Puth\n",
        "\n",
        "# 아티스트의 상위 10개 곡 정보 가져오기\n",
        "results = sp.artist_top_tracks(lz_uri)\n",
        "\n",
        "# 상위 10개 곡 정보를 리스트에 추가\n",
        "for track in results['tracks'][:10]:\n",
        "    track_names.append(track['name'])\n",
        "    artist_names.append(track['artists'][0]['name'])\n",
        "    artist_ids.append(track['artists'][0]['id'])\n",
        "    cover_arts.append(track['album']['images'][0]['url'])\n",
        "    preview_urls.append(track['preview_url'])\n",
        "\n",
        "    # 각 API 요청 사이에 2초의 딜레이를 추가\n",
        "    time.sleep(2)\n",
        "\n",
        "# 각 정보가 담긴 리스트 출력\n",
        "print(\"Track Names:\", track_names)\n",
        "print(\"Artist Names:\", artist_names)\n",
        "print(\"Artist IDs:\", artist_ids)\n",
        "print(\"Cover Arts:\", cover_arts)\n",
        "print(\"Preview URLs:\", preview_urls)\n"
      ]
    },
    {
      "cell_type": "code",
      "execution_count": null,
      "metadata": {
        "id": "4HpgqFMEov8x"
      },
      "outputs": [],
      "source": [
        "artist_uris = ['spotify:artist:41MozSoPIsD1dJM0CLPjZF', 'spotify:artist:7n2Ycct7Beij7Dj7meI4X0', 'spotify:artist:1z4g3DjTBBZKhvAroFlhOM',\n",
        "              'spotify:artist:6HvZYsbFfjnjFrWF950C9d', 'spotify:artist:6RHTUrRF63xao58xh9FXYJ', 'spotify:artist:4SpbR6yFEvexJuaBpgAU5p',\n",
        "              'spotify:artist:6YVMFz59CuY7ngCxTxjpxE', 'spotify:artist:2AfmfGFbe0A0WsTYm0SDTx', 'spotify:artist:28ot3wh4oNmoFOdVajibBl',\n",
        "              'spotify:artist:3Nrfpe0tUJi4K4DXYWgMUX', 'spotify:artist:2dIgFjalVxs4ThymZ67YCE', 'spotify:artist:7nqOGRxlXj7N2JYbgNEjYH',\n",
        "              'spotify:artist:5t5FqBwTcgKTaWmfEbwQY9', 'spotify:artist:1gBUSTR3TyDdTVFIaQnc02', 'spotify:artist:3cjEqqelV9zb4BYE3qDQ4O',\n",
        "              'spotify:artist:4Kxlr1PRlDKEB0ekOCyHgX']"
      ]
    },
    {
      "cell_type": "code",
      "execution_count": null,
      "metadata": {
        "colab": {
          "base_uri": "https://localhost:8080/",
          "height": 374
        },
        "id": "vnzadAv8qVjV",
        "outputId": "61660319-dc92-48da-ae09-8562f4f64874"
      },
      "outputs": [
        {
          "ename": "KeyboardInterrupt",
          "evalue": "",
          "output_type": "error",
          "traceback": [
            "\u001b[0;31m---------------------------------------------------------------------------\u001b[0m",
            "\u001b[0;31mKeyboardInterrupt\u001b[0m                         Traceback (most recent call last)",
            "\u001b[0;32m<ipython-input-9-0c51a899c7f0>\u001b[0m in \u001b[0;36m<cell line: 19>\u001b[0;34m()\u001b[0m\n\u001b[1;32m     18\u001b[0m \u001b[0;31m# 각 아티스트 URI에 대해 상위 10개의 곡을 가져와서 결과 리스트에 추가\u001b[0m\u001b[0;34m\u001b[0m\u001b[0;34m\u001b[0m\u001b[0m\n\u001b[1;32m     19\u001b[0m \u001b[0;32mfor\u001b[0m \u001b[0martist_uri\u001b[0m \u001b[0;32min\u001b[0m \u001b[0martist_uris\u001b[0m\u001b[0;34m:\u001b[0m\u001b[0;34m\u001b[0m\u001b[0;34m\u001b[0m\u001b[0m\n\u001b[0;32m---> 20\u001b[0;31m     \u001b[0mresults\u001b[0m \u001b[0;34m=\u001b[0m \u001b[0msp\u001b[0m\u001b[0;34m.\u001b[0m\u001b[0martist_top_tracks\u001b[0m\u001b[0;34m(\u001b[0m\u001b[0martist_uri\u001b[0m\u001b[0;34m)\u001b[0m\u001b[0;34m\u001b[0m\u001b[0;34m\u001b[0m\u001b[0m\n\u001b[0m\u001b[1;32m     21\u001b[0m     \u001b[0;32mfor\u001b[0m \u001b[0mtrack\u001b[0m \u001b[0;32min\u001b[0m \u001b[0mresults\u001b[0m\u001b[0;34m[\u001b[0m\u001b[0;34m'tracks'\u001b[0m\u001b[0;34m]\u001b[0m\u001b[0;34m[\u001b[0m\u001b[0;34m:\u001b[0m\u001b[0;36m10\u001b[0m\u001b[0;34m]\u001b[0m\u001b[0;34m:\u001b[0m\u001b[0;34m\u001b[0m\u001b[0;34m\u001b[0m\u001b[0m\n\u001b[1;32m     22\u001b[0m         \u001b[0mtrack_names\u001b[0m\u001b[0;34m.\u001b[0m\u001b[0mappend\u001b[0m\u001b[0;34m(\u001b[0m\u001b[0mtrack\u001b[0m\u001b[0;34m[\u001b[0m\u001b[0;34m'name'\u001b[0m\u001b[0;34m]\u001b[0m\u001b[0;34m)\u001b[0m\u001b[0;34m\u001b[0m\u001b[0;34m\u001b[0m\u001b[0m\n",
            "\u001b[0;32m/usr/local/lib/python3.10/dist-packages/spotipy/client.py\u001b[0m in \u001b[0;36martist_top_tracks\u001b[0;34m(self, artist_id, country)\u001b[0m\n\u001b[1;32m    434\u001b[0m \u001b[0;34m\u001b[0m\u001b[0m\n\u001b[1;32m    435\u001b[0m         \u001b[0mtrid\u001b[0m \u001b[0;34m=\u001b[0m \u001b[0mself\u001b[0m\u001b[0;34m.\u001b[0m\u001b[0m_get_id\u001b[0m\u001b[0;34m(\u001b[0m\u001b[0;34m\"artist\"\u001b[0m\u001b[0;34m,\u001b[0m \u001b[0martist_id\u001b[0m\u001b[0;34m)\u001b[0m\u001b[0;34m\u001b[0m\u001b[0;34m\u001b[0m\u001b[0m\n\u001b[0;32m--> 436\u001b[0;31m         \u001b[0;32mreturn\u001b[0m \u001b[0mself\u001b[0m\u001b[0;34m.\u001b[0m\u001b[0m_get\u001b[0m\u001b[0;34m(\u001b[0m\u001b[0;34m\"artists/\"\u001b[0m \u001b[0;34m+\u001b[0m \u001b[0mtrid\u001b[0m \u001b[0;34m+\u001b[0m \u001b[0;34m\"/top-tracks\"\u001b[0m\u001b[0;34m,\u001b[0m \u001b[0mcountry\u001b[0m\u001b[0;34m=\u001b[0m\u001b[0mcountry\u001b[0m\u001b[0;34m)\u001b[0m\u001b[0;34m\u001b[0m\u001b[0;34m\u001b[0m\u001b[0m\n\u001b[0m\u001b[1;32m    437\u001b[0m \u001b[0;34m\u001b[0m\u001b[0m\n\u001b[1;32m    438\u001b[0m     \u001b[0;32mdef\u001b[0m \u001b[0martist_related_artists\u001b[0m\u001b[0;34m(\u001b[0m\u001b[0mself\u001b[0m\u001b[0;34m,\u001b[0m \u001b[0martist_id\u001b[0m\u001b[0;34m)\u001b[0m\u001b[0;34m:\u001b[0m\u001b[0;34m\u001b[0m\u001b[0;34m\u001b[0m\u001b[0m\n",
            "\u001b[0;32m/usr/local/lib/python3.10/dist-packages/spotipy/client.py\u001b[0m in \u001b[0;36m_get\u001b[0;34m(self, url, args, payload, **kwargs)\u001b[0m\n\u001b[1;32m    321\u001b[0m             \u001b[0mkwargs\u001b[0m\u001b[0;34m.\u001b[0m\u001b[0mupdate\u001b[0m\u001b[0;34m(\u001b[0m\u001b[0margs\u001b[0m\u001b[0;34m)\u001b[0m\u001b[0;34m\u001b[0m\u001b[0;34m\u001b[0m\u001b[0m\n\u001b[1;32m    322\u001b[0m \u001b[0;34m\u001b[0m\u001b[0m\n\u001b[0;32m--> 323\u001b[0;31m         \u001b[0;32mreturn\u001b[0m \u001b[0mself\u001b[0m\u001b[0;34m.\u001b[0m\u001b[0m_internal_call\u001b[0m\u001b[0;34m(\u001b[0m\u001b[0;34m\"GET\"\u001b[0m\u001b[0;34m,\u001b[0m \u001b[0murl\u001b[0m\u001b[0;34m,\u001b[0m \u001b[0mpayload\u001b[0m\u001b[0;34m,\u001b[0m \u001b[0mkwargs\u001b[0m\u001b[0;34m)\u001b[0m\u001b[0;34m\u001b[0m\u001b[0;34m\u001b[0m\u001b[0m\n\u001b[0m\u001b[1;32m    324\u001b[0m \u001b[0;34m\u001b[0m\u001b[0m\n\u001b[1;32m    325\u001b[0m     \u001b[0;32mdef\u001b[0m \u001b[0m_post\u001b[0m\u001b[0;34m(\u001b[0m\u001b[0mself\u001b[0m\u001b[0;34m,\u001b[0m \u001b[0murl\u001b[0m\u001b[0;34m,\u001b[0m \u001b[0margs\u001b[0m\u001b[0;34m=\u001b[0m\u001b[0;32mNone\u001b[0m\u001b[0;34m,\u001b[0m \u001b[0mpayload\u001b[0m\u001b[0;34m=\u001b[0m\u001b[0;32mNone\u001b[0m\u001b[0;34m,\u001b[0m \u001b[0;34m**\u001b[0m\u001b[0mkwargs\u001b[0m\u001b[0;34m)\u001b[0m\u001b[0;34m:\u001b[0m\u001b[0;34m\u001b[0m\u001b[0;34m\u001b[0m\u001b[0m\n",
            "\u001b[0;32m/usr/local/lib/python3.10/dist-packages/spotipy/client.py\u001b[0m in \u001b[0;36m_internal_call\u001b[0;34m(self, method, url, payload, params)\u001b[0m\n\u001b[1;32m    264\u001b[0m \u001b[0;34m\u001b[0m\u001b[0m\n\u001b[1;32m    265\u001b[0m         \u001b[0;32mtry\u001b[0m\u001b[0;34m:\u001b[0m\u001b[0;34m\u001b[0m\u001b[0;34m\u001b[0m\u001b[0m\n\u001b[0;32m--> 266\u001b[0;31m             response = self._session.request(\n\u001b[0m\u001b[1;32m    267\u001b[0m                 \u001b[0mmethod\u001b[0m\u001b[0;34m,\u001b[0m \u001b[0murl\u001b[0m\u001b[0;34m,\u001b[0m \u001b[0mheaders\u001b[0m\u001b[0;34m=\u001b[0m\u001b[0mheaders\u001b[0m\u001b[0;34m,\u001b[0m \u001b[0mproxies\u001b[0m\u001b[0;34m=\u001b[0m\u001b[0mself\u001b[0m\u001b[0;34m.\u001b[0m\u001b[0mproxies\u001b[0m\u001b[0;34m,\u001b[0m\u001b[0;34m\u001b[0m\u001b[0;34m\u001b[0m\u001b[0m\n\u001b[1;32m    268\u001b[0m                 \u001b[0mtimeout\u001b[0m\u001b[0;34m=\u001b[0m\u001b[0mself\u001b[0m\u001b[0;34m.\u001b[0m\u001b[0mrequests_timeout\u001b[0m\u001b[0;34m,\u001b[0m \u001b[0;34m**\u001b[0m\u001b[0margs\u001b[0m\u001b[0;34m\u001b[0m\u001b[0;34m\u001b[0m\u001b[0m\n",
            "\u001b[0;32m/usr/local/lib/python3.10/dist-packages/requests/sessions.py\u001b[0m in \u001b[0;36mrequest\u001b[0;34m(self, method, url, params, data, headers, cookies, files, auth, timeout, allow_redirects, proxies, hooks, stream, verify, cert, json)\u001b[0m\n\u001b[1;32m    587\u001b[0m         }\n\u001b[1;32m    588\u001b[0m         \u001b[0msend_kwargs\u001b[0m\u001b[0;34m.\u001b[0m\u001b[0mupdate\u001b[0m\u001b[0;34m(\u001b[0m\u001b[0msettings\u001b[0m\u001b[0;34m)\u001b[0m\u001b[0;34m\u001b[0m\u001b[0;34m\u001b[0m\u001b[0m\n\u001b[0;32m--> 589\u001b[0;31m         \u001b[0mresp\u001b[0m \u001b[0;34m=\u001b[0m \u001b[0mself\u001b[0m\u001b[0;34m.\u001b[0m\u001b[0msend\u001b[0m\u001b[0;34m(\u001b[0m\u001b[0mprep\u001b[0m\u001b[0;34m,\u001b[0m \u001b[0;34m**\u001b[0m\u001b[0msend_kwargs\u001b[0m\u001b[0;34m)\u001b[0m\u001b[0;34m\u001b[0m\u001b[0;34m\u001b[0m\u001b[0m\n\u001b[0m\u001b[1;32m    590\u001b[0m \u001b[0;34m\u001b[0m\u001b[0m\n\u001b[1;32m    591\u001b[0m         \u001b[0;32mreturn\u001b[0m \u001b[0mresp\u001b[0m\u001b[0;34m\u001b[0m\u001b[0;34m\u001b[0m\u001b[0m\n",
            "\u001b[0;32m/usr/local/lib/python3.10/dist-packages/requests/sessions.py\u001b[0m in \u001b[0;36msend\u001b[0;34m(self, request, **kwargs)\u001b[0m\n\u001b[1;32m    701\u001b[0m \u001b[0;34m\u001b[0m\u001b[0m\n\u001b[1;32m    702\u001b[0m         \u001b[0;31m# Send the request\u001b[0m\u001b[0;34m\u001b[0m\u001b[0;34m\u001b[0m\u001b[0m\n\u001b[0;32m--> 703\u001b[0;31m         \u001b[0mr\u001b[0m \u001b[0;34m=\u001b[0m \u001b[0madapter\u001b[0m\u001b[0;34m.\u001b[0m\u001b[0msend\u001b[0m\u001b[0;34m(\u001b[0m\u001b[0mrequest\u001b[0m\u001b[0;34m,\u001b[0m \u001b[0;34m**\u001b[0m\u001b[0mkwargs\u001b[0m\u001b[0;34m)\u001b[0m\u001b[0;34m\u001b[0m\u001b[0;34m\u001b[0m\u001b[0m\n\u001b[0m\u001b[1;32m    704\u001b[0m \u001b[0;34m\u001b[0m\u001b[0m\n\u001b[1;32m    705\u001b[0m         \u001b[0;31m# Total elapsed time of the request (approximately)\u001b[0m\u001b[0;34m\u001b[0m\u001b[0;34m\u001b[0m\u001b[0m\n",
            "\u001b[0;32m/usr/local/lib/python3.10/dist-packages/requests/adapters.py\u001b[0m in \u001b[0;36msend\u001b[0;34m(self, request, stream, timeout, verify, cert, proxies)\u001b[0m\n\u001b[1;32m    484\u001b[0m \u001b[0;34m\u001b[0m\u001b[0m\n\u001b[1;32m    485\u001b[0m         \u001b[0;32mtry\u001b[0m\u001b[0;34m:\u001b[0m\u001b[0;34m\u001b[0m\u001b[0;34m\u001b[0m\u001b[0m\n\u001b[0;32m--> 486\u001b[0;31m             resp = conn.urlopen(\n\u001b[0m\u001b[1;32m    487\u001b[0m                 \u001b[0mmethod\u001b[0m\u001b[0;34m=\u001b[0m\u001b[0mrequest\u001b[0m\u001b[0;34m.\u001b[0m\u001b[0mmethod\u001b[0m\u001b[0;34m,\u001b[0m\u001b[0;34m\u001b[0m\u001b[0;34m\u001b[0m\u001b[0m\n\u001b[1;32m    488\u001b[0m                 \u001b[0murl\u001b[0m\u001b[0;34m=\u001b[0m\u001b[0murl\u001b[0m\u001b[0;34m,\u001b[0m\u001b[0;34m\u001b[0m\u001b[0;34m\u001b[0m\u001b[0m\n",
            "\u001b[0;32m/usr/local/lib/python3.10/dist-packages/urllib3/connectionpool.py\u001b[0m in \u001b[0;36murlopen\u001b[0;34m(self, method, url, body, headers, retries, redirect, assert_same_host, timeout, pool_timeout, release_conn, chunked, body_pos, preload_content, decode_content, **response_kw)\u001b[0m\n\u001b[1;32m    942\u001b[0m \u001b[0;34m\u001b[0m\u001b[0m\n\u001b[1;32m    943\u001b[0m             \u001b[0mresponse\u001b[0m\u001b[0;34m.\u001b[0m\u001b[0mdrain_conn\u001b[0m\u001b[0;34m(\u001b[0m\u001b[0;34m)\u001b[0m\u001b[0;34m\u001b[0m\u001b[0;34m\u001b[0m\u001b[0m\n\u001b[0;32m--> 944\u001b[0;31m             \u001b[0mretries\u001b[0m\u001b[0;34m.\u001b[0m\u001b[0msleep\u001b[0m\u001b[0;34m(\u001b[0m\u001b[0mresponse\u001b[0m\u001b[0;34m)\u001b[0m\u001b[0;34m\u001b[0m\u001b[0;34m\u001b[0m\u001b[0m\n\u001b[0m\u001b[1;32m    945\u001b[0m             \u001b[0mlog\u001b[0m\u001b[0;34m.\u001b[0m\u001b[0mdebug\u001b[0m\u001b[0;34m(\u001b[0m\u001b[0;34m\"Retry: %s\"\u001b[0m\u001b[0;34m,\u001b[0m \u001b[0murl\u001b[0m\u001b[0;34m)\u001b[0m\u001b[0;34m\u001b[0m\u001b[0;34m\u001b[0m\u001b[0m\n\u001b[1;32m    946\u001b[0m             return self.urlopen(\n",
            "\u001b[0;32m/usr/local/lib/python3.10/dist-packages/urllib3/util/retry.py\u001b[0m in \u001b[0;36msleep\u001b[0;34m(self, response)\u001b[0m\n\u001b[1;32m    353\u001b[0m \u001b[0;34m\u001b[0m\u001b[0m\n\u001b[1;32m    354\u001b[0m         \u001b[0;32mif\u001b[0m \u001b[0mself\u001b[0m\u001b[0;34m.\u001b[0m\u001b[0mrespect_retry_after_header\u001b[0m \u001b[0;32mand\u001b[0m \u001b[0mresponse\u001b[0m\u001b[0;34m:\u001b[0m\u001b[0;34m\u001b[0m\u001b[0;34m\u001b[0m\u001b[0m\n\u001b[0;32m--> 355\u001b[0;31m             \u001b[0mslept\u001b[0m \u001b[0;34m=\u001b[0m \u001b[0mself\u001b[0m\u001b[0;34m.\u001b[0m\u001b[0msleep_for_retry\u001b[0m\u001b[0;34m(\u001b[0m\u001b[0mresponse\u001b[0m\u001b[0;34m)\u001b[0m\u001b[0;34m\u001b[0m\u001b[0;34m\u001b[0m\u001b[0m\n\u001b[0m\u001b[1;32m    356\u001b[0m             \u001b[0;32mif\u001b[0m \u001b[0mslept\u001b[0m\u001b[0;34m:\u001b[0m\u001b[0;34m\u001b[0m\u001b[0;34m\u001b[0m\u001b[0m\n\u001b[1;32m    357\u001b[0m                 \u001b[0;32mreturn\u001b[0m\u001b[0;34m\u001b[0m\u001b[0;34m\u001b[0m\u001b[0m\n",
            "\u001b[0;32m/usr/local/lib/python3.10/dist-packages/urllib3/util/retry.py\u001b[0m in \u001b[0;36msleep_for_retry\u001b[0;34m(self, response)\u001b[0m\n\u001b[1;32m    332\u001b[0m         \u001b[0mretry_after\u001b[0m \u001b[0;34m=\u001b[0m \u001b[0mself\u001b[0m\u001b[0;34m.\u001b[0m\u001b[0mget_retry_after\u001b[0m\u001b[0;34m(\u001b[0m\u001b[0mresponse\u001b[0m\u001b[0;34m)\u001b[0m\u001b[0;34m\u001b[0m\u001b[0;34m\u001b[0m\u001b[0m\n\u001b[1;32m    333\u001b[0m         \u001b[0;32mif\u001b[0m \u001b[0mretry_after\u001b[0m\u001b[0;34m:\u001b[0m\u001b[0;34m\u001b[0m\u001b[0;34m\u001b[0m\u001b[0m\n\u001b[0;32m--> 334\u001b[0;31m             \u001b[0mtime\u001b[0m\u001b[0;34m.\u001b[0m\u001b[0msleep\u001b[0m\u001b[0;34m(\u001b[0m\u001b[0mretry_after\u001b[0m\u001b[0;34m)\u001b[0m\u001b[0;34m\u001b[0m\u001b[0;34m\u001b[0m\u001b[0m\n\u001b[0m\u001b[1;32m    335\u001b[0m             \u001b[0;32mreturn\u001b[0m \u001b[0;32mTrue\u001b[0m\u001b[0;34m\u001b[0m\u001b[0;34m\u001b[0m\u001b[0m\n\u001b[1;32m    336\u001b[0m \u001b[0;34m\u001b[0m\u001b[0m\n",
            "\u001b[0;31mKeyboardInterrupt\u001b[0m: "
          ]
        }
      ],
      "source": [
        "import pandas as pd\n",
        "from spotipy.oauth2 import SpotifyClientCredentials\n",
        "import spotipy\n",
        "import time\n",
        "\n",
        "client_id = '7ae275c4289c4961aa84d3944ea547ff'\n",
        "client_secret = '06cbce79bb0f474aae909c57e6001f45'\n",
        "\n",
        "client_credentials_manager = SpotifyClientCredentials(client_id=client_id, client_secret=client_secret)\n",
        "sp = spotipy.Spotify(client_credentials_manager=client_credentials_manager)\n",
        "\n",
        "# 주어진 아티스트 URI 리스트\n",
        "artist_uris = [\n",
        "    'spotify:artist:41MozSoPIsD1dJM0CLPjZF', 'spotify:artist:7n2Ycct7Beij7Dj7meI4X0', 'spotify:artist:1z4g3DjTBBZKhvAroFlhOM'\n",
        "]\n",
        "\n",
        "\n",
        "# 각 아티스트 URI에 대해 상위 10개의 곡을 가져와서 결과 리스트에 추가\n",
        "for artist_uri in artist_uris:\n",
        "    results = sp.artist_top_tracks(artist_uri)\n",
        "    for track in results['tracks'][:10]:\n",
        "        track_names.append(track['name'])\n",
        "        artist_names.append(track['artists'][0]['name'])\n",
        "        artist_ids.append(artist_uri.split(':')[-1])\n",
        "        cover_arts.append(track['album']['images'][0]['url'])\n",
        "        preview_urls.append(track['preview_url'])\n",
        "        # API 요청 사이에 1초 딜레이 추가\n",
        "        time.sleep(1)\n",
        "\n",
        "# 각 정보가 담긴 리스트 출력\n",
        "print(\"Track Names:\", track_names)\n",
        "print(\"Artist Names:\", artist_names)\n",
        "print(\"Artist IDs:\", artist_ids)\n",
        "print(\"Cover Arts:\", cover_arts)\n",
        "print(\"Preview URLs:\", preview_urls)\n"
      ]
    },
    {
      "cell_type": "code",
      "execution_count": null,
      "metadata": {
        "colab": {
          "base_uri": "https://localhost:8080/",
          "height": 374
        },
        "id": "qcnUtMLFnoBq",
        "outputId": "cd5475d3-837c-4cee-e1ce-599137ac64fb"
      },
      "outputs": [],
      "source": [
        "import pandas as pd\n",
        "from spotipy.oauth2 import SpotifyClientCredentials\n",
        "import spotipy\n",
        "import time\n",
        "\n",
        "client_id = '7ae275c4289c4961aa84d3944ea547ff'\n",
        "client_secret = '06cbce79bb0f474aae909c57e6001f45'\n",
        "\n",
        "client_credentials_manager = SpotifyClientCredentials(client_id=client_id, client_secret=client_secret)\n",
        "sp = spotipy.Spotify(client_credentials_manager=client_credentials_manager)\n",
        "\n",
        "# 주어진 아티스트 ID 리스트\n",
        "artist_ids = [\n",
        "    '41MozSoPIsD1dJM0CLPjZF', '7n2Ycct7Beij7Dj7meI4X0', '1z4g3DjTBBZKhvAroFlhOM'\n",
        "]\n",
        "\n",
        "# 결과를 저장할 리스트 초기화\n",
        "all_track_names = []\n",
        "all_artist_names = []\n",
        "all_artist_ids = []\n",
        "all_cover_arts = []\n",
        "all_preview_urls = []\n",
        "\n",
        "# 각 아티스트 ID에 대해 상위 10개의 곡을 가져와서 결과 리스트에 추가\n",
        "for artist_id in artist_ids:\n",
        "    results = sp.artist_top_tracks(artist_id)\n",
        "    for track in results['tracks'][:10]:\n",
        "        all_track_names.append(track['name'])\n",
        "        all_artist_names.append(track['artists'][0]['name'])\n",
        "        all_artist_ids.append(artist_id)\n",
        "        all_cover_arts.append(track['album']['images'][0]['url'])\n",
        "        all_preview_urls.append(track['preview_url'])\n",
        "        # API 요청 사이에 2초 딜레이 추가\n",
        "        time.sleep(2)\n",
        "\n",
        "# 각 정보가 담긴 리스트 출력\n",
        "print(\"Track Names:\", track_names)\n",
        "print(\"Artist Names:\", artist_names)\n",
        "print(\"Artist IDs:\", artist_ids)\n",
        "print(\"Cover Arts:\", cover_arts)\n",
        "print(\"Preview URLs:\", preview_urls)\n"
      ]
    },
    {
      "cell_type": "code",
      "execution_count": 5,
      "metadata": {
        "colab": {
          "base_uri": "https://localhost:8080/"
        },
        "id": "q_KGOl4LY3aq",
        "outputId": "f6077dd9-f9fa-46d9-95e5-12a9a1f252ec"
      },
      "outputs": [
        {
          "name": "stdout",
          "output_type": "stream",
          "text": [
            "Mounted at /content/drive\n"
          ]
        }
      ],
      "source": [
        "from google.colab import drive\n",
        "drive.mount('/content/drive')"
      ]
    }
  ],
  "metadata": {
    "colab": {
      "provenance": []
    },
    "kernelspec": {
      "display_name": "Project_ForU",
      "language": "python",
      "name": "python3"
    },
    "language_info": {
      "codemirror_mode": {
        "name": "ipython",
        "version": 3
      },
      "file_extension": ".py",
      "mimetype": "text/x-python",
      "name": "python",
      "nbconvert_exporter": "python",
      "pygments_lexer": "ipython3",
      "version": "3.12.3"
    }
  },
  "nbformat": 4,
  "nbformat_minor": 0
}
