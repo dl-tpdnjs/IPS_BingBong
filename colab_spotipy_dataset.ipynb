{
  "cells": [
    {
      "cell_type": "code",
      "execution_count": 1,
      "metadata": {
        "colab": {
          "base_uri": "https://localhost:8080/"
        },
        "id": "NiBEDmYxYHzi",
        "outputId": "6d5fa9bc-e9f9-4e20-c4c2-9657861b3999"
      },
      "outputs": [
        {
          "name": "stdout",
          "output_type": "stream",
          "text": [
            "Collecting spotipy\n",
            "  Downloading spotipy-2.23.0-py3-none-any.whl (29 kB)\n",
            "Collecting redis>=3.5.3 (from spotipy)\n",
            "  Downloading redis-5.0.4-py3-none-any.whl (251 kB)\n",
            "\u001b[2K     \u001b[90m━━━━━━━━━━━━━━━━━━━━━━━━━━━━━━━━━━━━━━━━\u001b[0m \u001b[32m252.0/252.0 kB\u001b[0m \u001b[31m5.4 MB/s\u001b[0m eta \u001b[36m0:00:00\u001b[0m\n",
            "\u001b[?25hRequirement already satisfied: requests>=2.25.0 in /usr/local/lib/python3.10/dist-packages (from spotipy) (2.31.0)\n",
            "Requirement already satisfied: six>=1.15.0 in /usr/local/lib/python3.10/dist-packages (from spotipy) (1.16.0)\n",
            "Requirement already satisfied: urllib3>=1.26.0 in /usr/local/lib/python3.10/dist-packages (from spotipy) (2.0.7)\n",
            "Requirement already satisfied: async-timeout>=4.0.3 in /usr/local/lib/python3.10/dist-packages (from redis>=3.5.3->spotipy) (4.0.3)\n",
            "Requirement already satisfied: charset-normalizer<4,>=2 in /usr/local/lib/python3.10/dist-packages (from requests>=2.25.0->spotipy) (3.3.2)\n",
            "Requirement already satisfied: idna<4,>=2.5 in /usr/local/lib/python3.10/dist-packages (from requests>=2.25.0->spotipy) (3.7)\n",
            "Requirement already satisfied: certifi>=2017.4.17 in /usr/local/lib/python3.10/dist-packages (from requests>=2.25.0->spotipy) (2024.2.2)\n",
            "Installing collected packages: redis, spotipy\n",
            "Successfully installed redis-5.0.4 spotipy-2.23.0\n"
          ]
        }
      ],
      "source": [
        "!pip install spotipy"
      ]
    },
    {
      "cell_type": "code",
      "execution_count": 2,
      "metadata": {
        "id": "n3DtXTLAX6DK"
      },
      "outputs": [],
      "source": [
        "# 아이디와 패스워드로 sp 초기화하기\n",
        "import spotipy\n",
        "from spotipy.oauth2 import SpotifyClientCredentials\n",
        "from spotipy.oauth2 import SpotifyOAuth\n",
        "import pandas as pd\n",
        "\n",
        "client_id = '7ae275c4289c4961aa84d3944ea547ff'\n",
        "client_secret = '06cbce79bb0f474aae909c57e6001f45'\n",
        "\n",
        "client_credentials_manager = SpotifyClientCredentials(client_id= client_id, client_secret= client_secret)\n",
        "sp = spotipy.Spotify(client_credentials_manager=client_credentials_manager)"
      ]
    },
    {
      "cell_type": "code",
      "execution_count": null,
      "metadata": {
        "id": "uWwrBXGmX6DL"
      },
      "outputs": [],
      "source": [
        "# 스포티파이 글로벌 일간 차트인 (걸그룹)\n",
        "blackpink = 'https://open.spotify.com/artist/41MozSoPIsD1dJM0CLPjZF'\n",
        "twice = 'https://open.spotify.com/artist/7n2Ycct7Beij7Dj7meI4X0'\n",
        "redvelvet = 'https://open.spotify.com/artist/1z4g3DjTBBZKhvAroFlhOM'\n",
        "newjeans = 'https://open.spotify.com/artist/6HvZYsbFfjnjFrWF950C9d'\n",
        "ive = 'https://open.spotify.com/artist/6RHTUrRF63xao58xh9FXYJ'\n",
        "lesserafim = 'https://open.spotify.com/artist/4SpbR6yFEvexJuaBpgAU5p'\n",
        "itzy = 'https://open.spotify.com/artist/2KC9Qb60EaY0kW4eH68vr3'\n",
        "aespa ='https://open.spotify.com/artist/6YVMFz59CuY7ngCxTxjpxE'\n",
        "gidle = 'https://open.spotify.com/artist/2AfmfGFbe0A0WsTYm0SDTx'\n",
        "kep1er = 'https://open.spotify.com/artist/5R7AMwDeroq6Ls0COQYpS4'\n",
        "nmixx = 'https://open.spotify.com/artist/28ot3wh4oNmoFOdVajibBl'\n",
        "\n",
        "# 스포티파이 글로벌 일간 차트인 (보이그룹)\n",
        "bts = 'https://open.spotify.com/artist/3Nrfpe0tUJi4K4DXYWgMUX'\n",
        "straykids = 'https://open.spotify.com/artist/2dIgFjalVxs4ThymZ67YCE'\n",
        "seventeen = 'https://open.spotify.com/artist/7nqOGRxlXj7N2JYbgNEjYH'\n",
        "txt = 'https://open.spotify.com/artist/0ghlgldX5Dd6720Q3qFyQB'\n",
        "enhypen = 'https://open.spotify.com/artist/5t5FqBwTcgKTaWmfEbwQY9'\n",
        "nctdream = 'https://open.spotify.com/artist/1gBUSTR3TyDdTVFIaQnc02'\n",
        "exo = 'https://open.spotify.com/artist/3cjEqqelV9zb4BYE3qDQ4O'\n",
        "treasure = 'https://open.spotify.com/artist/3KonOYiLsU53m4yT7gNotP'\n",
        "bigbang = 'https://open.spotify.com/artist/4Kxlr1PRlDKEB0ekOCyHgX'\n",
        "\n",
        "artist_list = [blackpink, twice, redvelvet, newjeans, ive, lesserafim, aespa, gidle, nmixx,\n",
        "               bts, straykids, seventeen, enhypen, nctdream, exo, bigbang]"
      ]
    },
    {
      "cell_type": "code",
      "execution_count": null,
      "metadata": {
        "colab": {
          "base_uri": "https://localhost:8080/"
        },
        "id": "8Bls1vydaHJD",
        "outputId": "bfaa387d-5288-4ed4-bff1-31b2072976f9"
      },
      "outputs": [
        {
          "name": "stdout",
          "output_type": "stream",
          "text": [
            "['41MozSoPIsD1dJM0CLPjZF', '7n2Ycct7Beij7Dj7meI4X0', '1z4g3DjTBBZKhvAroFlhOM', '6HvZYsbFfjnjFrWF950C9d', '6RHTUrRF63xao58xh9FXYJ', '4SpbR6yFEvexJuaBpgAU5p', '6YVMFz59CuY7ngCxTxjpxE', '2AfmfGFbe0A0WsTYm0SDTx', '28ot3wh4oNmoFOdVajibBl', '3Nrfpe0tUJi4K4DXYWgMUX', '2dIgFjalVxs4ThymZ67YCE', '7nqOGRxlXj7N2JYbgNEjYH', '5t5FqBwTcgKTaWmfEbwQY9', '1gBUSTR3TyDdTVFIaQnc02', '3cjEqqelV9zb4BYE3qDQ4O', '4Kxlr1PRlDKEB0ekOCyHgX']\n"
          ]
        }
      ],
      "source": [
        "# 각 아티스트의 id 따오기\n",
        "def get_artist_id_from_link(artist_link):\n",
        "    return artist_link.split('/')[-1]\n",
        "\n",
        "artist_list = [\n",
        "    'https://open.spotify.com/artist/41MozSoPIsD1dJM0CLPjZF',  # blackpink\n",
        "    'https://open.spotify.com/artist/7n2Ycct7Beij7Dj7meI4X0',  # twice\n",
        "    'https://open.spotify.com/artist/1z4g3DjTBBZKhvAroFlhOM',  # redvelvet\n",
        "    'https://open.spotify.com/artist/6HvZYsbFfjnjFrWF950C9d',  # newjeans\n",
        "    'https://open.spotify.com/artist/6RHTUrRF63xao58xh9FXYJ',  # ive\n",
        "    'https://open.spotify.com/artist/4SpbR6yFEvexJuaBpgAU5p',  # lesserafim\n",
        "    'https://open.spotify.com/artist/6YVMFz59CuY7ngCxTxjpxE',  # aespa\n",
        "    'https://open.spotify.com/artist/2AfmfGFbe0A0WsTYm0SDTx',  # gidle\n",
        "    'https://open.spotify.com/artist/28ot3wh4oNmoFOdVajibBl',  # nmixx\n",
        "    'https://open.spotify.com/artist/3Nrfpe0tUJi4K4DXYWgMUX',  # bts\n",
        "    'https://open.spotify.com/artist/2dIgFjalVxs4ThymZ67YCE',  # straykids\n",
        "    'https://open.spotify.com/artist/7nqOGRxlXj7N2JYbgNEjYH',  # seventeen\n",
        "    'https://open.spotify.com/artist/5t5FqBwTcgKTaWmfEbwQY9',  # enhypen\n",
        "    'https://open.spotify.com/artist/1gBUSTR3TyDdTVFIaQnc02',  # nctdream\n",
        "    'https://open.spotify.com/artist/3cjEqqelV9zb4BYE3qDQ4O',  # exo\n",
        "    'https://open.spotify.com/artist/4Kxlr1PRlDKEB0ekOCyHgX'   # bigbang\n",
        "]\n",
        "\n",
        "artist_ids = [get_artist_id_from_link(artist_link) for artist_link in artist_list]\n",
        "\n",
        "print(artist_ids)\n"
      ]
    },
    {
      "cell_type": "code",
      "execution_count": null,
      "metadata": {
        "colab": {
          "base_uri": "https://localhost:8080/"
        },
        "id": "P-RD4mMOacZt",
        "outputId": "f4db1cd2-2607-48b5-91b9-33ab5678e03e"
      },
      "outputs": [
        {
          "name": "stdout",
          "output_type": "stream",
          "text": [
            "['spotify:artist:41MozSoPIsD1dJM0CLPjZF', 'spotify:artist:7n2Ycct7Beij7Dj7meI4X0', 'spotify:artist:1z4g3DjTBBZKhvAroFlhOM', 'spotify:artist:6HvZYsbFfjnjFrWF950C9d', 'spotify:artist:6RHTUrRF63xao58xh9FXYJ', 'spotify:artist:4SpbR6yFEvexJuaBpgAU5p', 'spotify:artist:6YVMFz59CuY7ngCxTxjpxE', 'spotify:artist:2AfmfGFbe0A0WsTYm0SDTx', 'spotify:artist:28ot3wh4oNmoFOdVajibBl', 'spotify:artist:3Nrfpe0tUJi4K4DXYWgMUX', 'spotify:artist:2dIgFjalVxs4ThymZ67YCE', 'spotify:artist:7nqOGRxlXj7N2JYbgNEjYH', 'spotify:artist:5t5FqBwTcgKTaWmfEbwQY9', 'spotify:artist:1gBUSTR3TyDdTVFIaQnc02', 'spotify:artist:3cjEqqelV9zb4BYE3qDQ4O', 'spotify:artist:4Kxlr1PRlDKEB0ekOCyHgX']\n"
          ]
        }
      ],
      "source": [
        "# 각 아티스트를 URI로 변환하여 리스트에 담는 코드\n",
        "def get_artist_uri(artist_id):\n",
        "    return f'spotify:artist:{artist_id}'\n",
        "\n",
        "# 주어진 아티스트 ID 리스트\n",
        "artist_ids = [\n",
        "    '41MozSoPIsD1dJM0CLPjZF', '7n2Ycct7Beij7Dj7meI4X0', '1z4g3DjTBBZKhvAroFlhOM',\n",
        "    '6HvZYsbFfjnjFrWF950C9d', '6RHTUrRF63xao58xh9FXYJ', '4SpbR6yFEvexJuaBpgAU5p',\n",
        "    '6YVMFz59CuY7ngCxTxjpxE', '2AfmfGFbe0A0WsTYm0SDTx', '28ot3wh4oNmoFOdVajibBl',\n",
        "    '3Nrfpe0tUJi4K4DXYWgMUX', '2dIgFjalVxs4ThymZ67YCE', '7nqOGRxlXj7N2JYbgNEjYH',\n",
        "    '5t5FqBwTcgKTaWmfEbwQY9', '1gBUSTR3TyDdTVFIaQnc02', '3cjEqqelV9zb4BYE3qDQ4O',\n",
        "    '4Kxlr1PRlDKEB0ekOCyHgX'\n",
        "]\n",
        "\n",
        "# 변환하여 새로운 리스트에 담기\n",
        "artist_uris = [get_artist_uri(artist_id) for artist_id in artist_ids]\n",
        "\n",
        "print(artist_uris)\n"
      ]
    },
    {
      "cell_type": "code",
      "execution_count": null,
      "metadata": {
        "id": "6QSZS_ZCX6DM"
      },
      "outputs": [],
      "source": [
        "#  아티스트의 상위 10개 곡 따오는 코드 - 찰리푸스 노래로 테스트하기\n",
        "from spotipy.oauth2 import SpotifyClientCredentials\n",
        "import spotipy\n",
        "import pprint\n",
        "\n",
        "\n",
        "client_id = \"7ae275c4289c4961aa84d3944ea547ff\"\n",
        "client_secret = \"06cbce79bb0f474aae909c57e6001f45\"\n",
        "\n",
        "lz_uri = 'spotify:artist:6VuMaDnrHyPL1p4EHjYLi7' # Charlie Puth\n",
        "\n",
        "client_credentials_manager = SpotifyClientCredentials(client_id=client_id, client_secret=client_secret)\n",
        "sp = spotipy.Spotify(client_credentials_manager=client_credentials_manager)\n",
        "\n",
        "results = sp.artist_top_tracks(lz_uri)\n",
        "\n",
        "# get top 10 tracks\n",
        "for track in results['tracks'][:10]:\n",
        "    print('track    : ' + track['name'])\n",
        "    print('audio    : ' + track['preview_url'])\n",
        "    print('cover art: ' + track['album']['images'][0]['url'])\n",
        "    print()"
      ]
    },
    {
      "cell_type": "code",
      "execution_count": 4,
      "metadata": {
        "colab": {
          "base_uri": "https://localhost:8080/"
        },
        "id": "3UKVEJZdgrNw",
        "outputId": "2d5c96cd-825d-407a-cf55-b22b715def6e"
      },
      "outputs": [
        {
          "name": "stdout",
          "output_type": "stream",
          "text": [
            "Track Names: [\"We Don't Talk Anymore (feat. Selena Gomez)\", 'See You Again (feat. Charlie Puth)', 'Attention', 'Left and Right (Feat. Jung Kook of BTS)', 'One Call Away', 'Light Switch', 'Marvin Gaye (feat. Meghan Trainor)', 'Cheating on You', 'Dangerously', 'How Long']\n",
            "Artist Names: ['Charlie Puth', 'Wiz Khalifa', 'Charlie Puth', 'Charlie Puth', 'Charlie Puth', 'Charlie Puth', 'Charlie Puth', 'Charlie Puth', 'Charlie Puth', 'Charlie Puth']\n",
            "Artist IDs: ['6VuMaDnrHyPL1p4EHjYLi7', '137W8MRPWKqSmrBGDBFSop', '6VuMaDnrHyPL1p4EHjYLi7', '6VuMaDnrHyPL1p4EHjYLi7', '6VuMaDnrHyPL1p4EHjYLi7', '6VuMaDnrHyPL1p4EHjYLi7', '6VuMaDnrHyPL1p4EHjYLi7', '6VuMaDnrHyPL1p4EHjYLi7', '6VuMaDnrHyPL1p4EHjYLi7', '6VuMaDnrHyPL1p4EHjYLi7']\n",
            "Cover Arts: ['https://i.scdn.co/image/ab67616d0000b2734fe297c018e495a97662e5ac', 'https://i.scdn.co/image/ab67616d0000b2734e5df11b17b2727da2b718d8', 'https://i.scdn.co/image/ab67616d0000b273897f73256b9128a9d70eaf66', 'https://i.scdn.co/image/ab67616d0000b27335d2e0ed94a934f2cc46fa49', 'https://i.scdn.co/image/ab67616d0000b2734fe297c018e495a97662e5ac', 'https://i.scdn.co/image/ab67616d0000b27335d2e0ed94a934f2cc46fa49', 'https://i.scdn.co/image/ab67616d0000b2734fe297c018e495a97662e5ac', 'https://i.scdn.co/image/ab67616d0000b2738de02872d0f01145d616ca6f', 'https://i.scdn.co/image/ab67616d0000b2734fe297c018e495a97662e5ac', 'https://i.scdn.co/image/ab67616d0000b273897f73256b9128a9d70eaf66']\n",
            "Preview URLs: ['https://p.scdn.co/mp3-preview/0af9ac246a60236b73e34854631a6c3de5cca602?cid=7ae275c4289c4961aa84d3944ea547ff', 'https://p.scdn.co/mp3-preview/69c2ac6f1501e5c8bc6970273da5d06fb97a2e76?cid=7ae275c4289c4961aa84d3944ea547ff', 'https://p.scdn.co/mp3-preview/db76d34af2f966975e0c1b8b9e43dca882e27229?cid=7ae275c4289c4961aa84d3944ea547ff', 'https://p.scdn.co/mp3-preview/9e4342eefa4f33df4e9b199e60dbce0f59e46eff?cid=7ae275c4289c4961aa84d3944ea547ff', 'https://p.scdn.co/mp3-preview/5fce39f8440f1e9a2c2adb986d73492cbd7b6297?cid=7ae275c4289c4961aa84d3944ea547ff', 'https://p.scdn.co/mp3-preview/135cce6ee2119c739643b3bbc15465623a60522c?cid=7ae275c4289c4961aa84d3944ea547ff', 'https://p.scdn.co/mp3-preview/7e19cab67f9f80913d0a1a01c5b987d33ec2c6a6?cid=7ae275c4289c4961aa84d3944ea547ff', 'https://p.scdn.co/mp3-preview/5ac37bc33ab452401393ca33efe1fda635fdb7f3?cid=7ae275c4289c4961aa84d3944ea547ff', 'https://p.scdn.co/mp3-preview/3fd9672bb6a8ef91626a78888bdf4793c3932193?cid=7ae275c4289c4961aa84d3944ea547ff', 'https://p.scdn.co/mp3-preview/f7c09279fe91c88bb8a55062fbf368ec1087aeba?cid=7ae275c4289c4961aa84d3944ea547ff']\n"
          ]
        }
      ],
      "source": [
        "#  아티스트의 상위 10개 곡 따오는 코드(2) - 찰리푸스 노래로 테스트하기\n",
        "import pandas as pd\n",
        "from spotipy.oauth2 import SpotifyClientCredentials\n",
        "import spotipy\n",
        "import time\n",
        "\n",
        "client_id = '7ae275c4289c4961aa84d3944ea547ff'\n",
        "client_secret = '06cbce79bb0f474aae909c57e6001f45'\n",
        "\n",
        "client_credentials_manager = SpotifyClientCredentials(client_id=client_id, client_secret=client_secret)\n",
        "sp = spotipy.Spotify(client_credentials_manager=client_credentials_manager)\n",
        "\n",
        "# 아티스트 URI\n",
        "lz_uri = 'spotify:artist:6VuMaDnrHyPL1p4EHjYLi7'  # Charlie Puth\n",
        "\n",
        "# 아티스트의 상위 10개 곡 정보 가져오기\n",
        "results = sp.artist_top_tracks(lz_uri)\n",
        "\n",
        "# 각 정보를 담을 리스트 초기화\n",
        "track_names = []\n",
        "artist_names = []\n",
        "artist_ids = []\n",
        "cover_arts = []\n",
        "preview_urls = []\n",
        "\n",
        "# 상위 10개 곡 정보를 리스트에 추가\n",
        "for track in results['tracks'][:10]:                  # 곡 별로 저장\n",
        "    track_names.append(track['name'])                 # 곡 이름\n",
        "    artist_names.append(track['artists'][0]['name'])  # 곡의 아티스트명\n",
        "    artist_ids.append(track['artists'][0]['id'])      # 곡의 아티스트 아이디\n",
        "    cover_arts.append(track['album']['images'][0]['url']) # 곡의 앨범 커버\n",
        "    preview_urls.append(track['preview_url'])             # 곡의 스포티파이 링크\n",
        "\n",
        "    # 각 API 요청 사이에 2초의 딜레이를 추가\n",
        "    time.sleep(2)\n",
        "\n",
        "# 각 정보가 담긴 리스트 출력\n",
        "print(\"Track Names:\", track_names)\n",
        "print(\"Artist Names:\", artist_names)\n",
        "print(\"Artist IDs:\", artist_ids)\n",
        "print(\"Cover Arts:\", cover_arts)\n",
        "print(\"Preview URLs:\", preview_urls)\n"
      ]
    },
    {
      "cell_type": "code",
      "execution_count": null,
      "metadata": {
        "id": "VwC5ZNlTparP"
      },
      "outputs": [],
      "source": [
        "import pandas as pd\n",
        "from spotipy.oauth2 import SpotifyClientCredentials\n",
        "import spotipy\n",
        "import time\n",
        "\n",
        "client_id = '7ae275c4289c4961aa84d3944ea547ff'\n",
        "client_secret = '06cbce79bb0f474aae909c57e6001f45'\n",
        "\n",
        "client_credentials_manager = SpotifyClientCredentials(client_id=client_id, client_secret=client_secret)\n",
        "sp = spotipy.Spotify(client_credentials_manager=client_credentials_manager)\n",
        "\n",
        "# 아티스트 URI\n",
        "lz_uri = 'spotify:artist:41MozSoPIsD1dJM0CLPjZF'  # Charlie Puth\n",
        "\n",
        "# 아티스트의 상위 10개 곡 정보 가져오기\n",
        "results = sp.artist_top_tracks(lz_uri)\n",
        "\n",
        "# 상위 10개 곡 정보를 리스트에 추가\n",
        "for track in results['tracks'][:10]:\n",
        "    track_names.append(track['name'])\n",
        "    artist_names.append(track['artists'][0]['name'])\n",
        "    artist_ids.append(track['artists'][0]['id'])\n",
        "    cover_arts.append(track['album']['images'][0]['url'])\n",
        "    preview_urls.append(track['preview_url'])\n",
        "\n",
        "    # 각 API 요청 사이에 1초의 딜레이를 추가\n",
        "    time.sleep(1)\n",
        "\n",
        "# 각 정보가 담긴 리스트 출력\n",
        "print(\"Track Names:\", track_names)\n",
        "print(\"Artist Names:\", artist_names)\n",
        "print(\"Artist IDs:\", artist_ids)\n",
        "print(\"Cover Arts:\", cover_arts)\n",
        "print(\"Preview URLs:\", preview_urls)\n"
      ]
    },
    {
      "cell_type": "code",
      "execution_count": null,
      "metadata": {
        "id": "4HpgqFMEov8x"
      },
      "outputs": [],
      "source": [
        "artist_uris = ['spotify:artist:41MozSoPIsD1dJM0CLPjZF', # 블랙핑크\n",
        "              'spotify:artist:7n2Ycct7Beij7Dj7meI4X0',  # 트와이스\n",
        "              'spotify:artist:1z4g3DjTBBZKhvAroFlhOM',  # 레드벨벳\n",
        "              'spotify:artist:6HvZYsbFfjnjFrWF950C9d',  # 뉴진스\n",
        "              'spotify:artist:6RHTUrRF63xao58xh9FXYJ',  # 아이브\n",
        "              'spotify:artist:4SpbR6yFEvexJuaBpgAU5p',  # 르세라핌\n",
        "              'spotify:artist:6YVMFz59CuY7ngCxTxjpxE',  # 에스파\n",
        "              'spotify:artist:2AfmfGFbe0A0WsTYm0SDTx', # 아이들\n",
        "              'spotify:artist:28ot3wh4oNmoFOdVajibBl', # 엔믹스\n",
        "              'spotify:artist:3Nrfpe0tUJi4K4DXYWgMUX', # 방탄소년단\n",
        "              'spotify:artist:2dIgFjalVxs4ThymZ67YCE', # 스트레이키즈\n",
        "              'spotify:artist:7nqOGRxlXj7N2JYbgNEjYH', # 엔하이픈\n",
        "              'spotify:artist:5t5FqBwTcgKTaWmfEbwQY9', # 세븐틴\n",
        "              'spotify:artist:1gBUSTR3TyDdTVFIaQnc02', # 엔시티드림\n",
        "              'spotify:artist:3cjEqqelV9zb4BYE3qDQ4O', # 엑소\n",
        "              'spotify:artist:4Kxlr1PRlDKEB0ekOCyHgX'] # 빅뱅"
      ]
    },
    {
      "cell_type": "code",
      "execution_count": null,
      "metadata": {
        "id": "vnzadAv8qVjV"
      },
      "outputs": [],
      "source": [
        "# 여러 아티스트의 곡 10개를 저장하여 기본 정보(아티스트 이름,id, 곡 이름, 곡 커버)를 얻음\n",
        "\n",
        "from spotipy.oauth2 import SpotifyClientCredentials\n",
        "import spotipy\n",
        "import time\n",
        "\n",
        "# Spotify API에 접속하기 위한 인증 정보 설정\n",
        "cid = 'your_client_id'\n",
        "secret = 'your_client_secret'\n",
        "client_credentials_manager = SpotifyClientCredentials(client_id=cid, client_secret=secret)\n",
        "sp = spotipy.Spotify(client_credentials_manager=client_credentials_manager)\n",
        "\n",
        "# 주어진 아티스트 URI 리스트\n",
        "artist_uris = ['spotify:artist:41MozSoPIsD1dJM0CLPjZF' # 찰리푸스\n",
        "              'spotify:artist:41MozSoPIsD1dJM0CLPjZF', # 블랙핑크\n",
        "              'spotify:artist:7n2Ycct7Beij7Dj7meI4X0',  # 트와이스\n",
        "              'spotify:artist:1z4g3DjTBBZKhvAroFlhOM',  # 레드벨벳\n",
        "              'spotify:artist:6HvZYsbFfjnjFrWF950C9d',  # 뉴진스\n",
        "              'spotify:artist:6RHTUrRF63xao58xh9FXYJ',  # 아이브\n",
        "              'spotify:artist:4SpbR6yFEvexJuaBpgAU5p',  # 르세라핌\n",
        "              'spotify:artist:6YVMFz59CuY7ngCxTxjpxE',  # 에스파\n",
        "              'spotify:artist:2AfmfGFbe0A0WsTYm0SDTx', # 아이들\n",
        "              'spotify:artist:28ot3wh4oNmoFOdVajibBl', # 엔믹스\n",
        "              'spotify:artist:3Nrfpe0tUJi4K4DXYWgMUX', # 방탄소년단\n",
        "              'spotify:artist:2dIgFjalVxs4ThymZ67YCE', # 스트레이키즈\n",
        "              'spotify:artist:7nqOGRxlXj7N2JYbgNEjYH', # 엔하이픈\n",
        "              'spotify:artist:5t5FqBwTcgKTaWmfEbwQY9', # 세븐틴\n",
        "              'spotify:artist:1gBUSTR3TyDdTVFIaQnc02', # 엔시티드림\n",
        "              'spotify:artist:3cjEqqelV9zb4BYE3qDQ4O', # 엑소\n",
        "              'spotify:artist:4Kxlr1PRlDKEB0ekOCyHgX'] # 빅뱅\n",
        "\n",
        "# 각 정보를 담을 리스트 초기화\n",
        "track_names = []\n",
        "artist_names = []\n",
        "artist_ids = []\n",
        "cover_arts = []\n",
        "preview_urls = []\n",
        "\n",
        "# 각 아티스트 URI에 대해 상위 10개의 곡을 가져와서 결과 리스트에 추가\n",
        "for artist_uri in artist_uris:\n",
        "    results = sp.artist_top_tracks(artist_uri)\n",
        "    for track in results['tracks'][:10]:\n",
        "        track_names.append(track['name'])\n",
        "        artist_names.append(track['artists'][0]['name'])\n",
        "        artist_ids.append(artist_uri.split(':')[-1])\n",
        "        cover_arts.append(track['album']['images'][0]['url'])\n",
        "        preview_urls.append(track['preview_url'])\n",
        "\n",
        "        # API 요청 사이에 1초 딜레이 추가\n",
        "        time.sleep(1)\n",
        "\n",
        "# 리스트 출력\n",
        "print(\"Track Names:\", track_names)\n",
        "print(\"Artist Names:\", artist_names)\n",
        "print(\"Artist IDs:\", artist_ids)\n",
        "print(\"Cover Arts:\", cover_arts)\n",
        "print(\"Preview URLs:\", preview_urls)\n"
      ]
    },
    {
      "cell_type": "code",
      "execution_count": null,
      "metadata": {},
      "outputs": [],
      "source": [
        "\"\"\" \n",
        "해당 클래스는 \n",
        "spotipy에 함수의 아이디 비번을 설정하는 함수 (=__init__(self)),\n",
        "트랙 정보 기반, 감정과 관련된 정보들을 가지고 오는 함수 (=spe_get_feature())\n",
        "트랙 정보 기반, 모든 정보를 가지고 오는 함수 (= all_get_feature())\n",
        "를 포함하는 spotipy api 기반의 클래스입니다.\n",
        "\"\"\"\n",
        "\n",
        "class Spotify_audio_features:\n",
        "    def __init__(self):\n",
        "        # 초기 설정\n",
        "        cid = '7ae275c4289c4961aa84d3944ea547ff'\n",
        "        secret = '06cbce79bb0f474aae909c57e6001f45'\n",
        "\n",
        "        # 함수의 아이디와 비번을 설정하는 작업\n",
        "        client_credentials_manager = SpotifyClientCredentials(client_id=cid, client_secret=secret)\n",
        "        self.sp = spotipy.Spotify(client_credentials_manager=client_credentials_manager)\n",
        "    \n",
        "    \n",
        "    # 트랙 정보를 기반으로, 감정 기반의 정보들만 가져오는 함수\n",
        "    def get_features(self, song):\n",
        "        # 트랙 정보를 입력하기\n",
        "        track_info = self.sp.search(q=song, type='track', market='JP') # 여기서 q는 노래명을 입력, type은 track으로 진행\n",
        "        track_id = track_info[\"tracks\"][\"items\"][0][\"id\"]\n",
        "\n",
        "        # 해당 노래의 특징을 가지고 오기\n",
        "        features = self.sp.audio_features(tracks=[track_id])\n",
        "        acousticness = features[0][\"acousticness\"]\n",
        "        danceability = features[0][\"danceability\"]  # 춤추기에 적합한 노래일 수록 값이 높음\n",
        "        energy = features[0][\"energy\"]      # 빠르고 화려하고 노이즈가 많은 음악\n",
        "        liveness = features[0][\"liveness\"]\n",
        "        loudness = features[0][\"loudness\"]  # 음악의 밝음 정도\n",
        "        valence = features[0][\"valence\"]\n",
        "        mode = features[0][\"mode\"]\n",
        "\n",
        "        result = {\"acousticness\" : acousticness,\n",
        "                    \"danceability\" : danceability,\n",
        "                    \"energy\" : energy,\n",
        "                    \"liveness\" : liveness,\n",
        "                    \"valence\" : valence,\n",
        "                    \"mode\" : mode}\n",
        "\n",
        "        return result\n",
        "    \n",
        "    # 트랙 정보를 기반으로, 곡의 전체 정보를 가지고 오기\n",
        "    def all_get_features(self, song):\n",
        "        # 트랙 정보를 입력하기\n",
        "        track_info = self.sp.search(q=song, type='track', market='JP') # 여기서 q는 노래명을 입력, type은 track으로 진행\n",
        "        track_id = track_info[\"tracks\"][\"items\"][0][\"id\"]\n",
        "\n",
        "        # 해당 노래의 특징을 가지고 오기\n",
        "        features = self.sp.audio_features(tracks=[track_id])[0]  # 첫 번째 트랙의 특징만 가져오기\n",
        "\n",
        "        return features"
      ]
    },
    {
      "cell_type": "code",
      "execution_count": null,
      "metadata": {
        "id": "W2V9lrzR1joK"
      },
      "outputs": [],
      "source": [
        "from spotipy.oauth2 import SpotifyClientCredentials\n",
        "import spotipy\n",
        "\n",
        "# Spotify API에 접속하기 위한 인증 정보 설정\n",
        "cid = 'your_client_id'\n",
        "secret = 'your_client_secret'\n",
        "client_credentials_manager = SpotifyClientCredentials(client_id=cid, client_secret=secret)\n",
        "sp = spotipy.Spotify(client_credentials_manager=client_credentials_manager)\n",
        "\n",
        "# 사용자가 입력한 여러 곡\n",
        "song_titles = track_names\n",
        "\n",
        "# 각 곡에 대한 특징 데이터를 저장할 리스트 초기화\n",
        "acousticness_list = []\n",
        "danceability_list = []\n",
        "energy_list = []\n",
        "liveness_list = []\n",
        "loudness_list = []\n",
        "valence_list = []\n",
        "mode_list = []\n",
        "\n",
        "# 각 곡에 대한 특징 데이터를 가져와서 리스트에 추가\n",
        "for song_title in song_titles:\n",
        "    # 각 곡의 특징 데이터 가져오기\n",
        "    saf = Spotify_audio_features()\n",
        "    features = saf.all_get_features(song_title)\n",
        "    acousticness_list.append(features[\"acousticness\"])\n",
        "    danceability_list.append(features[\"danceability\"])\n",
        "    energy_list.append(features[\"energy\"])\n",
        "    liveness_list.append(features[\"liveness\"])\n",
        "    loudness_list.append(features[\"loudness\"])\n",
        "    valence_list.append(features[\"valence\"])\n",
        "    mode_list.append(features[\"mode\"])\n",
        "\n",
        "# 특징 데이터를 출력\n",
        "for i in range(len(song_titles)):\n",
        "    print(f\"=== {song_titles[i]} ===\")\n",
        "    print(f\"Acousticness: {acousticness_list[i]}\")\n",
        "    print(f\"Danceability: {danceability_list[i]}\")\n",
        "    print(f\"Energy: {energy_list[i]}\")\n",
        "    print(f\"Liveness: {liveness_list[i]}\")\n",
        "    print(f\"Loudness: {loudness_list[i]}\")\n",
        "    print(f\"Valence: {valence_list[i]}\")\n",
        "    print(f\"Mode: {mode_list[i]}\")\n"
      ]
    },
    {
      "cell_type": "code",
      "execution_count": null,
      "metadata": {
        "colab": {
          "base_uri": "https://localhost:8080/"
        },
        "id": "q_KGOl4LY3aq",
        "outputId": "f6077dd9-f9fa-46d9-95e5-12a9a1f252ec"
      },
      "outputs": [
        {
          "name": "stdout",
          "output_type": "stream",
          "text": [
            "Mounted at /content/drive\n"
          ]
        }
      ],
      "source": [
        "from google.colab import drive\n",
        "drive.mount('/content/drive')"
      ]
    }
  ],
  "metadata": {
    "colab": {
      "provenance": []
    },
    "kernelspec": {
      "display_name": "Project_ForU",
      "language": "python",
      "name": "python3"
    },
    "language_info": {
      "codemirror_mode": {
        "name": "ipython",
        "version": 3
      },
      "file_extension": ".py",
      "mimetype": "text/x-python",
      "name": "python",
      "nbconvert_exporter": "python",
      "pygments_lexer": "ipython3",
      "version": "3.12.3"
    }
  },
  "nbformat": 4,
  "nbformat_minor": 0
}
