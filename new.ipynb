{
 "cells": [
  {
   "cell_type": "code",
   "execution_count": 2,
   "metadata": {},
   "outputs": [],
   "source": [
    "import spotipy\n",
    "from spotipy.oauth2 import SpotifyClientCredentials\n",
    "from spotipy.oauth2 import SpotifyOAuth\n",
    "import pandas as pd\n",
    "import openpyxl\n",
    "\n",
    "client_id = '7ae275c4289c4961aa84d3944ea547ff'\n",
    "client_secret = '06cbce79bb0f474aae909c57e6001f45'\n",
    "\n",
    "client_credentials_manager = SpotifyClientCredentials(client_id= client_id, client_secret= client_secret)\n",
    "sp = spotipy.Spotify(client_credentials_manager=client_credentials_manager)"
   ]
  },
  {
   "cell_type": "code",
   "execution_count": 3,
   "metadata": {},
   "outputs": [],
   "source": [
    "# 스포티파이 글로벌 일간 차트인 (걸그룹)\n",
    "blackpink = 'https://open.spotify.com/artist/41MozSoPIsD1dJM0CLPjZF'\n",
    "twice = 'https://open.spotify.com/artist/7n2Ycct7Beij7Dj7meI4X0'\n",
    "redvelvet = 'https://open.spotify.com/artist/1z4g3DjTBBZKhvAroFlhOM'\n",
    "newjeans = 'https://open.spotify.com/artist/6HvZYsbFfjnjFrWF950C9d'\n",
    "ive = 'https://open.spotify.com/artist/6RHTUrRF63xao58xh9FXYJ'\n",
    "lesserafim = 'https://open.spotify.com/artist/4SpbR6yFEvexJuaBpgAU5p'\n",
    "itzy = 'https://open.spotify.com/artist/2KC9Qb60EaY0kW4eH68vr3'\n",
    "aespa ='https://open.spotify.com/artist/6YVMFz59CuY7ngCxTxjpxE'\n",
    "gidle = 'https://open.spotify.com/artist/2AfmfGFbe0A0WsTYm0SDTx'\n",
    "kep1er = 'https://open.spotify.com/artist/5R7AMwDeroq6Ls0COQYpS4'\n",
    "nmixx = 'https://open.spotify.com/artist/28ot3wh4oNmoFOdVajibBl'\n",
    "\n",
    "# 스포티파이 글로벌 일간 차트인 (보이그룹)\n",
    "bts = 'https://open.spotify.com/artist/3Nrfpe0tUJi4K4DXYWgMUX'\n",
    "straykids = 'https://open.spotify.com/artist/2dIgFjalVxs4ThymZ67YCE'\n",
    "seventeen = 'https://open.spotify.com/artist/7nqOGRxlXj7N2JYbgNEjYH'\n",
    "txt = 'https://open.spotify.com/artist/0ghlgldX5Dd6720Q3qFyQB'\n",
    "enhypen = 'https://open.spotify.com/artist/5t5FqBwTcgKTaWmfEbwQY9'\n",
    "nctdream = 'https://open.spotify.com/artist/1gBUSTR3TyDdTVFIaQnc02'\n",
    "exo = 'https://open.spotify.com/artist/3cjEqqelV9zb4BYE3qDQ4O'\n",
    "treasure = 'https://open.spotify.com/artist/3KonOYiLsU53m4yT7gNotP'\n",
    "bigbang = 'https://open.spotify.com/artist/4Kxlr1PRlDKEB0ekOCyHgX'\n",
    "\n",
    "artist_list = [blackpink, twice, redvelvet, newjeans, ive, lesserafim, aespa, gidle, nmixx,\n",
    "               bts, straykids, seventeen, enhypen, nctdream, exo, bigbang]"
   ]
  },
  {
   "cell_type": "code",
   "execution_count": 4,
   "metadata": {},
   "outputs": [],
   "source": [
    "import pandas as pd\n",
    "\n",
    "artist_list = [\"blackpink\"]  # 샘플: 아티스트 목록 제한\n",
    "\n",
    "artist_info_df = pd.DataFrame(columns=[\n",
    "    \"artist_name\", \"artist_id\", \"artist_uri\", \"artist_popularity\"\n",
    "])\n",
    "\n",
    "for artist in artist_list:\n",
    "    artistprofile = sp.artist(artist_id=artist)\n",
    "    artist_popularity = artistprofile['popularity']\n",
    "\n",
    "    artist_info_df = artist_info_df.append({\n",
    "        \"artist_name\": artistprofile['name'],\n",
    "        \"artist_id\": artistprofile['id'],\n",
    "        \"artist_uri\": artistprofile['uri'],\n",
    "        \"artist_popularity\": artist_popularity\n",
    "    }, ignore_index=True)\n",
    "\n",
    "# 엑셀 파일 저장 (artist_info.xlsx)\n",
    "artist_info_df.to_excel(\"artist_info.xlsx\", index=False)\n",
    "print(\"엑셀 파일 생성 완료: artist_info.xlsx\")\n"
   ]
  }
 ],
 "metadata": {
  "kernelspec": {
   "display_name": "Project_ForU",
   "language": "python",
   "name": "python3"
  },
  "language_info": {
   "codemirror_mode": {
    "name": "ipython",
    "version": 3
   },
   "file_extension": ".py",
   "mimetype": "text/x-python",
   "name": "python",
   "nbconvert_exporter": "python",
   "pygments_lexer": "ipython3",
   "version": "3.12.3"
  }
 },
 "nbformat": 4,
 "nbformat_minor": 2
}
