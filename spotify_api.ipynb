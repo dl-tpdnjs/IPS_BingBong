{
 "cells": [
  {
   "cell_type": "code",
   "execution_count": 9,
   "metadata": {},
   "outputs": [],
   "source": [
    "import spotipy\n",
    "from spotipy.oauth2 import SpotifyClientCredentials\n",
    "\n",
    "# Spotify API 클라이언트 ID와 클라이언트 시크릿 설정\n",
    "client_id = '7ae275c4289c4961aa84d3944ea547ff'\n",
    "client_secret = '06cbce79bb0f474aae909c57e6001f45'\n",
    "\n",
    "sp = spotipy.Spotify(auth_manager=SpotifyClientCredentials(client_id=client_id, client_secret=client_secret))\n"
   ]
  },
  {
   "cell_type": "code",
   "execution_count": 13,
   "metadata": {},
   "outputs": [],
   "source": [
    "def get_artist_id(artist_name):\n",
    "  \"\"\"\n",
    "  아티스트 이름을 기반으로 Spotify API에서 아티스트 ID를 가져옵니다.\n",
    "\n",
    "  Args:\n",
    "      artist_name: 검색할 아티스트 이름\n",
    "\n",
    "  Returns:\n",
    "      아티스트 ID (string) 또는 None (아티스트를 찾을 수 없는 경우)\n",
    "  \"\"\"\n",
    "  results = sp.search(q=artist_name, type=\"artist\")\n",
    "  if results['artists']['items']:\n",
    "    return results['artists']['items'][0]['id']\n",
    "  else:\n",
    "    return None\n"
   ]
  },
  {
   "cell_type": "code",
   "execution_count": 14,
   "metadata": {},
   "outputs": [],
   "source": [
    "def get_top_50_tracks(artist_id):\n",
    "  \"\"\"\n",
    "  아티스트 ID를 기반으로 Spotify API에서 아티스트의 상위 50곡을 가져옵니다.\n",
    "\n",
    "  Args:\n",
    "      artist_id: 곡을 추출할 아티스트 ID\n",
    "\n",
    "  Returns:\n",
    "      아티스트 곡 목록 (list)\n",
    "  \"\"\"\n",
    "  top_tracks = []\n",
    "  results = sp.artist_top_tracks(artist_id)\n",
    "  for track in results['tracks']:\n",
    "    top_tracks.append(track['uri'])\n",
    "  return top_tracks"
   ]
  },
  {
   "cell_type": "code",
   "execution_count": 15,
   "metadata": {},
   "outputs": [],
   "source": [
    "# 사용할 아티스트 이름 입력\n",
    "artist_name = \"blackpink\"\n",
    "\n",
    "# 아티스트 ID 가져오기\n",
    "artist_id = get_artist_id(artist_name)\n",
    "\n",
    "if artist_id:\n",
    "  # 아티스트별 Top 50 곡 추출\n",
    "  top_50_tracks = get_top_50_tracks(artist_id)\n",
    "\n",
    "  # 추출된 곡 출력\n",
    "  print(f\"{artist_name}의 Top 50 곡:\")\n",
    "  for track_uri in top_50_tracks:\n",
    "    track_info = sp.track(track_uri)\n",
    "    track_name = track_info['name']\n",
    "    print(f\"- {track_name}\")\n",
    "else:\n",
    "  print(f\"Spotify에서 '{artist_name}' 아티스트를 찾을 수 없습니다.\")\n"
   ]
  }
 ],
 "metadata": {
  "kernelspec": {
   "display_name": "Project_ForU",
   "language": "python",
   "name": "python3"
  },
  "language_info": {
   "codemirror_mode": {
    "name": "ipython",
    "version": 3
   },
   "file_extension": ".py",
   "mimetype": "text/x-python",
   "name": "python",
   "nbconvert_exporter": "python",
   "pygments_lexer": "ipython3",
   "version": "3.12.3"
  }
 },
 "nbformat": 4,
 "nbformat_minor": 2
}
